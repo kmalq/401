{
  "cells": [
    {
      "cell_type": "markdown",
      "source": [
        "# Generate baseline/control dataset\n",
        "#### -5000x201 dataset\n",
        "#### -multivariate normal features\n",
        "#### -5 true features, 195 noise\n",
        "#### -balanced 4 class target, linear combination of the 5 features by creating linear score\n",
        "#### -correlation matrix for collinearity, var=1 corr=0.1 off diagonals"
      ],
      "metadata": {
        "id": "jL_rQbckkeik"
      }
    },
    {
      "cell_type": "code",
      "execution_count": null,
      "metadata": {
        "id": "DYB3CUqljyMV",
        "outputId": "2e7f4d21-ac6e-4b1f-a7d5-bffbd3b4dfd5"
      },
      "outputs": [
        {
          "name": "stdout",
          "output_type": "stream",
          "text": [
            "Dataset shape: (5000, 201)\n",
            "Target class distribution:\n",
            "Target\n",
            "0    1250\n",
            "1    1250\n",
            "2    1250\n",
            "3    1250\n",
            "Name: count, dtype: int64\n"
          ]
        }
      ],
      "source": [
        "import numpy as np\n",
        "import pandas as pd\n",
        "\n",
        "#Set random seed for reproducibility\n",
        "np.random.seed(42)\n",
        "\n",
        "#Define dataset dimensions\n",
        "n = 5000    # number of observations\n",
        "p = 200     # total number of features\n",
        "\n",
        "#Create an exchangeable covariance matrix with variance=1 and correlation=0.1 off-diagonals\n",
        "rho = 0.1\n",
        "Sigma = np.full((p, p), rho)\n",
        "np.fill_diagonal(Sigma, 1.0)\n",
        "\n",
        "#Generate the feature matrix X from a multivariate normal distribution\n",
        "X = np.random.multivariate_normal(mean=np.zeros(p), cov=Sigma, size=n)\n",
        "\n",
        "#Define coefficients for the 5 true predictors\n",
        "beta_true = np.array([1.0, -1.0, 0.5, 2.0, -0.5])\n",
        "\n",
        "#Compute a linear score using only the 5 true predictors, add some noise\n",
        "signal = X[:, :5].dot(beta_true) + np.random.normal(0, 1, n)\n",
        "\n",
        "#Determine class boundaries based on quartiles of the signal\n",
        "q1, q2, q3 = np.percentile(signal, [25, 50, 75])\n",
        "\n",
        "#Assign classes 0, 1, 2, 3 based on the signal quartiles\n",
        "Y = np.where(signal <= q1, 0,\n",
        "np.where(signal <= q2, 1,\n",
        "np.where(signal <= q3, 2, 3)))\n",
        "\n",
        "#Combine features and target into a pandas DataFrame\n",
        "columns = [f'X{i+1}' for i in range(p)]\n",
        "df = pd.DataFrame(X, columns=columns)\n",
        "df['Target'] = Y\n",
        "\n",
        "#Display basic information\n",
        "print('Dataset shape:', df.shape)\n",
        "print('Target class distribution:')\n",
        "print(df['Target'].value_counts().sort_index())"
      ]
    },
    {
      "cell_type": "code",
      "execution_count": null,
      "metadata": {
        "id": "NOXn_YpZjyMX"
      },
      "outputs": [],
      "source": []
    }
  ],
  "metadata": {
    "kernelspec": {
      "display_name": "Python 3",
      "language": "python",
      "name": "python3"
    },
    "language_info": {
      "codemirror_mode": {
        "name": "ipython",
        "version": 3
      },
      "file_extension": ".py",
      "mimetype": "text/x-python",
      "name": "python",
      "nbconvert_exporter": "python",
      "pygments_lexer": "ipython3",
      "version": "3.9.6"
    },
    "colab": {
      "provenance": []
    }
  },
  "nbformat": 4,
  "nbformat_minor": 0
}